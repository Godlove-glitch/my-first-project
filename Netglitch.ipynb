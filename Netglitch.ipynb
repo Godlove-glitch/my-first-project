{
 "cells": [
  {
   "cell_type": "markdown",
   "metadata": {},
   "source": [
    "# 🎬 Netflix Content-Based Recommendation System ✨\n",
    "\n",
    "> _\"Where your next favorite show finds you automatically!\"_\n",
    "\n",
    "---\n",
    "\n",
    "**👨‍💻 Author:** Godlove SHIMA\n",
    "**📅 Date:** 20th/05/2025\n",
    "**🛠 Tools Used:**  \n",
    "`Python` | `Pandas` | `Scikit-learn (sklearn)` | `TF-IDF` | `Cosine Similarity`\n",
    "\n",
    "**📂 Dataset:** Netflix TV Shows and Movies Metadata\n",
    "\n",
    "---\n",
    "\n",
    "## 🎯 Project Objective\n",
    "> Build a lightweight recommendation system that suggests similar shows/movies based on their metadata (title, cast, director, genre, and description).\n",
    "\n",
    "---\n",
    "\n",
    "## 🧰 Key Techniques\n",
    "- 🍲 Metadata Soup Creation\n",
    "- ✍️ Text Preprocessing\n",
    "- 🧠 TF-IDF Vectorization\n",
    "- 📈 Cosine Similarity Computation\n",
    "- 🛠 Building a Custom Recommendation Function\n",
    "\n",
    "---\n",
    "\n",
    "## 🌟 Expected Outcome\n",
    "> A system that recommends **10 similar TV shows/movies** when you input your favorite title!\n",
    "\n",
    "---\n",
    "\n",
    "\n"
   ]
  },
  {
   "cell_type": "markdown",
   "metadata": {},
   "source": [
    "# 📑 Table of Contents\n",
    "\n",
    "1. [Load and Inspect the Data](#load-and-inspect-the-data)\n",
    "2. [Data Preprocessing](#data-preprocessing)\n",
    "3. [TF-IDF Vectorization](#tf-idf-vectorization)\n",
    "4. [Compute Cosine Similarity](#compute-cosine-similarity)\n",
    "5. [Mapping Title Indices](#mapping-title-indices)\n",
    "6. [Build the Recommendation Function](#build-the-recommendation-function)\n",
    "7. [Test the System](#test-the-system)\n",
    "8. [Conclusion and Reflections](#conclusion-and-reflections)\n",
    "\n",
    "\n"
   ]
  },
  {
   "cell_type": "markdown",
   "metadata": {},
   "source": [
    "# 📚 Project Overview\n",
    "\n",
    "Welcome to my **Netflix Recommendation System** project!  \n",
    "In this project, I explored a dataset of Netflix titles to build a simple, content-based recommendation system.\n",
    "\n",
    "By combining metadata such as **title**, **director**, **cast**, **genres**, and **description** into a \"content profile,\" I applied Natural Language Processing (NLP) techniques like **TF-IDF Vectorization** and **Cosine Similarity** to find shows or movies similar to a given title.\n",
    "\n",
    "🎯 **Main Goal:**  \n",
    "Create a functional and understandable recommender system that can suggest Netflix titles based on content similarity.\n",
    "\n",
    "🛠️ **Skills Practiced:**  \n",
    "- Data Preprocessing\n",
    "- TF-IDF Vectorization\n",
    "- Cosine Similarity Computation\n",
    "- Building a Custom Recommendation Function\n",
    "\n",
    "✨ **Why This Project Matters:**  \n",
    "This project helped me practice important data science skills and offered a fun introduction to building recommender systems from scratch!\n",
    "\n",
    "---\n",
    "\n",
    "📅 **Date Completed:** 20th April 2025  \n",
    "👨‍💻 **Author:** Godlove SHIMA\n"
   ]
  },
  {
   "cell_type": "markdown",
   "metadata": {},
   "source": [
    "# 🚀 Let's Get Started!"
   ]
  },
  {
   "cell_type": "code",
   "execution_count": 1,
   "metadata": {},
   "outputs": [],
   "source": [
    "import pandas as pd\n",
    "from sklearn.feature_extraction.text import TfidfVectorizer\n",
    "from sklearn.metrics.pairwise import cosine_similarity\n"
   ]
  },
  {
   "cell_type": "markdown",
   "metadata": {},
   "source": [
    "# Load and Inspect the Data"
   ]
  },
  {
   "cell_type": "code",
   "execution_count": 2,
   "metadata": {},
   "outputs": [
    {
     "data": {
      "text/html": [
       "<div>\n",
       "<style scoped>\n",
       "    .dataframe tbody tr th:only-of-type {\n",
       "        vertical-align: middle;\n",
       "    }\n",
       "\n",
       "    .dataframe tbody tr th {\n",
       "        vertical-align: top;\n",
       "    }\n",
       "\n",
       "    .dataframe thead th {\n",
       "        text-align: right;\n",
       "    }\n",
       "</style>\n",
       "<table border=\"1\" class=\"dataframe\">\n",
       "  <thead>\n",
       "    <tr style=\"text-align: right;\">\n",
       "      <th></th>\n",
       "      <th>show_id</th>\n",
       "      <th>type</th>\n",
       "      <th>title</th>\n",
       "      <th>director</th>\n",
       "      <th>cast</th>\n",
       "      <th>country</th>\n",
       "      <th>date_added</th>\n",
       "      <th>release_year</th>\n",
       "      <th>rating</th>\n",
       "      <th>duration</th>\n",
       "      <th>listed_in</th>\n",
       "      <th>description</th>\n",
       "    </tr>\n",
       "  </thead>\n",
       "  <tbody>\n",
       "    <tr>\n",
       "      <th>0</th>\n",
       "      <td>s1</td>\n",
       "      <td>Movie</td>\n",
       "      <td>Dick Johnson Is Dead</td>\n",
       "      <td>Kirsten Johnson</td>\n",
       "      <td>NaN</td>\n",
       "      <td>United States</td>\n",
       "      <td>September 25, 2021</td>\n",
       "      <td>2020</td>\n",
       "      <td>PG-13</td>\n",
       "      <td>90 min</td>\n",
       "      <td>Documentaries</td>\n",
       "      <td>As her father nears the end of his life, filmm...</td>\n",
       "    </tr>\n",
       "    <tr>\n",
       "      <th>1</th>\n",
       "      <td>s2</td>\n",
       "      <td>TV Show</td>\n",
       "      <td>Blood &amp; Water</td>\n",
       "      <td>NaN</td>\n",
       "      <td>Ama Qamata, Khosi Ngema, Gail Mabalane, Thaban...</td>\n",
       "      <td>South Africa</td>\n",
       "      <td>September 24, 2021</td>\n",
       "      <td>2021</td>\n",
       "      <td>TV-MA</td>\n",
       "      <td>2 Seasons</td>\n",
       "      <td>International TV Shows, TV Dramas, TV Mysteries</td>\n",
       "      <td>After crossing paths at a party, a Cape Town t...</td>\n",
       "    </tr>\n",
       "    <tr>\n",
       "      <th>2</th>\n",
       "      <td>s3</td>\n",
       "      <td>TV Show</td>\n",
       "      <td>Ganglands</td>\n",
       "      <td>Julien Leclercq</td>\n",
       "      <td>Sami Bouajila, Tracy Gotoas, Samuel Jouy, Nabi...</td>\n",
       "      <td>NaN</td>\n",
       "      <td>September 24, 2021</td>\n",
       "      <td>2021</td>\n",
       "      <td>TV-MA</td>\n",
       "      <td>1 Season</td>\n",
       "      <td>Crime TV Shows, International TV Shows, TV Act...</td>\n",
       "      <td>To protect his family from a powerful drug lor...</td>\n",
       "    </tr>\n",
       "    <tr>\n",
       "      <th>3</th>\n",
       "      <td>s4</td>\n",
       "      <td>TV Show</td>\n",
       "      <td>Jailbirds New Orleans</td>\n",
       "      <td>NaN</td>\n",
       "      <td>NaN</td>\n",
       "      <td>NaN</td>\n",
       "      <td>September 24, 2021</td>\n",
       "      <td>2021</td>\n",
       "      <td>TV-MA</td>\n",
       "      <td>1 Season</td>\n",
       "      <td>Docuseries, Reality TV</td>\n",
       "      <td>Feuds, flirtations and toilet talk go down amo...</td>\n",
       "    </tr>\n",
       "    <tr>\n",
       "      <th>4</th>\n",
       "      <td>s5</td>\n",
       "      <td>TV Show</td>\n",
       "      <td>Kota Factory</td>\n",
       "      <td>NaN</td>\n",
       "      <td>Mayur More, Jitendra Kumar, Ranjan Raj, Alam K...</td>\n",
       "      <td>India</td>\n",
       "      <td>September 24, 2021</td>\n",
       "      <td>2021</td>\n",
       "      <td>TV-MA</td>\n",
       "      <td>2 Seasons</td>\n",
       "      <td>International TV Shows, Romantic TV Shows, TV ...</td>\n",
       "      <td>In a city of coaching centers known to train I...</td>\n",
       "    </tr>\n",
       "  </tbody>\n",
       "</table>\n",
       "</div>"
      ],
      "text/plain": [
       "  show_id     type                  title         director  \\\n",
       "0      s1    Movie   Dick Johnson Is Dead  Kirsten Johnson   \n",
       "1      s2  TV Show          Blood & Water              NaN   \n",
       "2      s3  TV Show              Ganglands  Julien Leclercq   \n",
       "3      s4  TV Show  Jailbirds New Orleans              NaN   \n",
       "4      s5  TV Show           Kota Factory              NaN   \n",
       "\n",
       "                                                cast        country  \\\n",
       "0                                                NaN  United States   \n",
       "1  Ama Qamata, Khosi Ngema, Gail Mabalane, Thaban...   South Africa   \n",
       "2  Sami Bouajila, Tracy Gotoas, Samuel Jouy, Nabi...            NaN   \n",
       "3                                                NaN            NaN   \n",
       "4  Mayur More, Jitendra Kumar, Ranjan Raj, Alam K...          India   \n",
       "\n",
       "           date_added  release_year rating   duration  \\\n",
       "0  September 25, 2021          2020  PG-13     90 min   \n",
       "1  September 24, 2021          2021  TV-MA  2 Seasons   \n",
       "2  September 24, 2021          2021  TV-MA   1 Season   \n",
       "3  September 24, 2021          2021  TV-MA   1 Season   \n",
       "4  September 24, 2021          2021  TV-MA  2 Seasons   \n",
       "\n",
       "                                           listed_in  \\\n",
       "0                                      Documentaries   \n",
       "1    International TV Shows, TV Dramas, TV Mysteries   \n",
       "2  Crime TV Shows, International TV Shows, TV Act...   \n",
       "3                             Docuseries, Reality TV   \n",
       "4  International TV Shows, Romantic TV Shows, TV ...   \n",
       "\n",
       "                                         description  \n",
       "0  As her father nears the end of his life, filmm...  \n",
       "1  After crossing paths at a party, a Cape Town t...  \n",
       "2  To protect his family from a powerful drug lor...  \n",
       "3  Feuds, flirtations and toilet talk go down amo...  \n",
       "4  In a city of coaching centers known to train I...  "
      ]
     },
     "execution_count": 2,
     "metadata": {},
     "output_type": "execute_result"
    }
   ],
   "source": [
    "\n",
    "netglitch = pd.read_csv('C:/Users/user/Desktop/netflix_titles.csv')\n",
    "\n",
    "netglitch.head()\n"
   ]
  },
  {
   "cell_type": "markdown",
   "metadata": {},
   "source": [
    "**Observation**:  \n",
    "Here we check the basic structure of the dataset and identify which columns are useful for building our content profiles.\n"
   ]
  },
  {
   "cell_type": "markdown",
   "metadata": {},
   "source": [
    "# Data Preprocessing"
   ]
  },
  {
   "cell_type": "code",
   "execution_count": 5,
   "metadata": {},
   "outputs": [],
   "source": [
    "\n",
    "netglitch['description'] = netglitch['description'].fillna('')\n",
    "\n",
    "netglitch['content_profile'] = netglitch['title'] + ' ' + netglitch['director'] + ' ' + netglitch['cast'] + ' ' + netglitch['listed_in'] + ' ' + netglitch['description']\n",
    "\n",
    "netglitch['content_profile'] = netglitch['content_profile'].str.lower()\n"
   ]
  },
  {
   "cell_type": "markdown",
   "metadata": {},
   "source": [
    "**Note**:  \n",
    "We combine several text fields into one 'content_profile' and lowercase everything to ensure the model doesn't treat \"Drama\" and \"drama\" as different.\n"
   ]
  },
  {
   "cell_type": "markdown",
   "metadata": {},
   "source": [
    "# TF-IDF Vectorization"
   ]
  },
  {
   "cell_type": "code",
   "execution_count": 9,
   "metadata": {},
   "outputs": [
    {
     "data": {
      "text/plain": [
       "(8807, 42824)"
      ]
     },
     "execution_count": 9,
     "metadata": {},
     "output_type": "execute_result"
    }
   ],
   "source": [
    "# from sklearn.feature_extraction.text import TfidfVectorizer\n",
    "\n",
    "tfidf = TfidfVectorizer(stop_words='english')\n",
    "netglitch['content_profile'] = netglitch['content_profile'].fillna(' ')\n",
    "tfidf_matrix = tfidf.fit_transform(netglitch['content_profile'])\n",
    "tfidf_matrix.shape"
   ]
  },
  {
   "cell_type": "markdown",
   "metadata": {},
   "source": [
    "# Compute Cosine Similarity"
   ]
  },
  {
   "cell_type": "code",
   "execution_count": 10,
   "metadata": {},
   "outputs": [],
   "source": [
    "cosine_sim = cosine_similarity(tfidf_matrix, tfidf_matrix)\n"
   ]
  },
  {
   "cell_type": "markdown",
   "metadata": {},
   "source": [
    "# Mapping Title Indices"
   ]
  },
  {
   "cell_type": "code",
   "execution_count": 11,
   "metadata": {},
   "outputs": [],
   "source": [
    "netglitch = netglitch.reset_index()\n",
    "indices = pd.Series(netglitch.index, index=netglitch['title'])\n"
   ]
  },
  {
   "cell_type": "markdown",
   "metadata": {},
   "source": [
    "# Build the Recommendation Function"
   ]
  },
  {
   "cell_type": "code",
   "execution_count": 18,
   "metadata": {},
   "outputs": [],
   "source": [
    "import pandas as pd\n",
    "\n",
    "# Reset index to map titles to rows\n",
    "netglitch = netglitch.reset_index()\n",
    "\n",
    "# Create a Series to map title to index\n",
    "indices = pd.Series(netglitch.index, index=netglitch['title'])\n",
    "\n",
    "def get_recommendations(title, cosine_sim=cosine_sim):\n",
    "    idx = indices[title]\n",
    "\n",
    "    # Get pairwise similarity scores for this title\n",
    "    sim_scores = list(enumerate(cosine_sim[idx]))\n",
    "\n",
    "    # Sort movies by similarity score (high to low)\n",
    "    sim_scores = sorted(sim_scores, key=lambda x: x[1], reverse=True)\n",
    "\n",
    "    # Get top 10 similar shows/movies excluding itself\n",
    "    sim_scores = sim_scores[1:11]\n",
    "\n",
    "    # Get the indices of the most similar shows\n",
    "    show_indices = [i[0] for i in sim_scores]\n",
    "\n",
    "    # Return the top 10 recommended titles\n",
    "    return netglitch['title'].iloc[show_indices]\n"
   ]
  },
  {
   "cell_type": "markdown",
   "metadata": {},
   "source": [
    "# Test the System"
   ]
  },
  {
   "cell_type": "code",
   "execution_count": 30,
   "metadata": {},
   "outputs": [
    {
     "name": "stdout",
     "output_type": "stream",
     "text": [
      "Because you watched 'Black Mirror, you may also watch:\n",
      "\n"
     ]
    },
    {
     "data": {
      "text/plain": [
       "1                           Blood & Water\n",
       "2                               Ganglands\n",
       "3                   Jailbirds New Orleans\n",
       "4                            Kota Factory\n",
       "5                           Midnight Mass\n",
       "6        My Little Pony: A New Generation\n",
       "7                                 Sankofa\n",
       "8           The Great British Baking Show\n",
       "9                            The Starling\n",
       "10    Vendetta: Truth, Lies and The Mafia\n",
       "Name: title, dtype: object"
      ]
     },
     "execution_count": 30,
     "metadata": {},
     "output_type": "execute_result"
    }
   ],
   "source": [
    "recommendation = get_recommendations('Black Mirror')\n",
    "print(\"Because you watched 'Black Mirror, you may also watch:\\n\")\n",
    "recommendation\n"
   ]
  },
  {
   "cell_type": "code",
   "execution_count": 29,
   "metadata": {},
   "outputs": [
    {
     "name": "stdout",
     "output_type": "stream",
     "text": [
      "Because you enjoyed 'Sankofa, you may also like:\n",
      "\n"
     ]
    },
    {
     "data": {
      "text/plain": [
       "8238        The Carter Effect\n",
       "5044        When We First Met\n",
       "8425                The Model\n",
       "7037            I Am Jane Doe\n",
       "3094                  The App\n",
       "5689    Reggie Watts: Spatial\n",
       "7904        Running for Grace\n",
       "227               Really Love\n",
       "6510             Coach Carter\n",
       "7976    Secrets of Selfridges\n",
       "Name: title, dtype: object"
      ]
     },
     "execution_count": 29,
     "metadata": {},
     "output_type": "execute_result"
    }
   ],
   "source": [
    "recommendation = get_recommendations('Sankofa')\n",
    "print(\"Because you enjoyed 'Sankofa, you may also like:\\n\")\n",
    "recommendation"
   ]
  },
  {
   "cell_type": "code",
   "execution_count": 28,
   "metadata": {},
   "outputs": [
    {
     "name": "stdout",
     "output_type": "stream",
     "text": [
      "Since you liked 'The Starling, you may also enjoy:\n",
      "\n"
     ]
    },
    {
     "data": {
      "text/plain": [
       "604                  The Life of David Gale\n",
       "5596                        Growing Up Wild\n",
       "3733    Adam Devine: Best Time of Our Lives\n",
       "3957                               The Trap\n",
       "1088                          Thunder Force\n",
       "2035                     The Social Dilemma\n",
       "5326          Colin Quinn: Unconstitutional\n",
       "614                    What Dreams May Come\n",
       "7827                   Ram Teri Ganga Maili\n",
       "797                                I Am Sam\n",
       "Name: title, dtype: object"
      ]
     },
     "execution_count": 28,
     "metadata": {},
     "output_type": "execute_result"
    }
   ],
   "source": [
    "recommendation = get_recommendations('The Starling')\n",
    "print(\"Since you liked 'The Starling, you may also enjoy:\\n\")\n",
    "recommendation"
   ]
  },
  {
   "cell_type": "markdown",
   "metadata": {},
   "source": [
    "# Conclusion and Reflections\n"
   ]
  },
  {
   "cell_type": "markdown",
   "metadata": {},
   "source": [
    "# Conclusion\n",
    "✅ We successfully built a content-based recommendation engine!  \n",
    "It suggests shows based on textual metadata similarities.\n",
    "\n",
    "# Future Improvements\n",
    "- Include more metadata (e.g., release year, ratings).\n",
    "- Try hybrid models (combine content and user ratings).\n",
    "\n",
    "# Thank You! 🙌\n",
    "\n"
   ]
  }
 ],
 "metadata": {
  "kernelspec": {
   "display_name": "Python 3",
   "language": "python",
   "name": "python3"
  },
  "language_info": {
   "codemirror_mode": {
    "name": "ipython",
    "version": 3
   },
   "file_extension": ".py",
   "mimetype": "text/x-python",
   "name": "python",
   "nbconvert_exporter": "python",
   "pygments_lexer": "ipython3",
   "version": "3.12.6"
  }
 },
 "nbformat": 4,
 "nbformat_minor": 2
}
